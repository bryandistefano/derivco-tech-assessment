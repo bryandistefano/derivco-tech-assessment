{
 "cells": [
  {
   "cell_type": "markdown",
   "metadata": {},
   "source": [
    "# Question 3 - Loot Box Data Analysis"
   ]
  },
  {
   "cell_type": "markdown",
   "metadata": {},
   "source": [
    "The first step is to import the necessary libraries for my analysis."
   ]
  },
  {
   "cell_type": "code",
   "execution_count": 1,
   "metadata": {},
   "outputs": [],
   "source": [
    "from matplotlib import pyplot as plt\n",
    "import pandas as pd\n",
    "import seaborn as sns\n",
    "import numpy as np\n",
    "import scipy\n",
    "%matplotlib inline"
   ]
  },
  {
   "cell_type": "markdown",
   "metadata": {},
   "source": [
    "To look for correlations between the loot box strategy and increased player interest/expenditures, the spreadsheets will be loaded into DataFrames for analysis and visualization."
   ]
  },
  {
   "cell_type": "code",
   "execution_count": 2,
   "metadata": {},
   "outputs": [],
   "source": [
    "games = pd.read_csv('Dim_Game.csv')\n",
    "platforms = pd.read_csv('Dim_Platform.csv')\n",
    "data = pd.read_csv('Fact_Day.csv')"
   ]
  },
  {
   "cell_type": "code",
   "execution_count": 3,
   "metadata": {},
   "outputs": [
    {
     "data": {
      "text/html": [
       "<div>\n",
       "<style scoped>\n",
       "    .dataframe tbody tr th:only-of-type {\n",
       "        vertical-align: middle;\n",
       "    }\n",
       "\n",
       "    .dataframe tbody tr th {\n",
       "        vertical-align: top;\n",
       "    }\n",
       "\n",
       "    .dataframe thead th {\n",
       "        text-align: right;\n",
       "    }\n",
       "</style>\n",
       "<table border=\"1\" class=\"dataframe\">\n",
       "  <thead>\n",
       "    <tr style=\"text-align: right;\">\n",
       "      <th></th>\n",
       "      <th>Game_ID</th>\n",
       "      <th>Game_Name</th>\n",
       "      <th>Theme</th>\n",
       "      <th>Co-operative_Play</th>\n",
       "      <th>Player_vs_Player</th>\n",
       "      <th>Achievements</th>\n",
       "      <th>Leaderboards</th>\n",
       "      <th>Release_Date</th>\n",
       "    </tr>\n",
       "  </thead>\n",
       "  <tbody>\n",
       "    <tr>\n",
       "      <th>0</th>\n",
       "      <td>304</td>\n",
       "      <td>Asian Dynasty</td>\n",
       "      <td>Fantasy</td>\n",
       "      <td>1</td>\n",
       "      <td>1</td>\n",
       "      <td>0</td>\n",
       "      <td>1</td>\n",
       "      <td>'2017-01-04'</td>\n",
       "    </tr>\n",
       "    <tr>\n",
       "      <th>1</th>\n",
       "      <td>305</td>\n",
       "      <td>Hot Rod Demons</td>\n",
       "      <td>Cars</td>\n",
       "      <td>0</td>\n",
       "      <td>1</td>\n",
       "      <td>1</td>\n",
       "      <td>1</td>\n",
       "      <td>'2017-04-05'</td>\n",
       "    </tr>\n",
       "    <tr>\n",
       "      <th>2</th>\n",
       "      <td>306</td>\n",
       "      <td>Hot Date!</td>\n",
       "      <td>Romance</td>\n",
       "      <td>0</td>\n",
       "      <td>0</td>\n",
       "      <td>0</td>\n",
       "      <td>0</td>\n",
       "      <td>'2017-02-01'</td>\n",
       "    </tr>\n",
       "    <tr>\n",
       "      <th>3</th>\n",
       "      <td>307</td>\n",
       "      <td>Into the Depths II</td>\n",
       "      <td>Horror</td>\n",
       "      <td>0</td>\n",
       "      <td>0</td>\n",
       "      <td>1</td>\n",
       "      <td>1</td>\n",
       "      <td>'2017-03-01'</td>\n",
       "    </tr>\n",
       "    <tr>\n",
       "      <th>4</th>\n",
       "      <td>308</td>\n",
       "      <td>Crown of Thorns</td>\n",
       "      <td>Fantasy</td>\n",
       "      <td>1</td>\n",
       "      <td>0</td>\n",
       "      <td>1</td>\n",
       "      <td>0</td>\n",
       "      <td>'2017-05-03'</td>\n",
       "    </tr>\n",
       "    <tr>\n",
       "      <th>5</th>\n",
       "      <td>309</td>\n",
       "      <td>Prehistoric Deathmatch: Revenge of the Raptors</td>\n",
       "      <td>Survival</td>\n",
       "      <td>1</td>\n",
       "      <td>0</td>\n",
       "      <td>1</td>\n",
       "      <td>0</td>\n",
       "      <td>'2017-06-21'</td>\n",
       "    </tr>\n",
       "    <tr>\n",
       "      <th>6</th>\n",
       "      <td>310</td>\n",
       "      <td>Legends of the Samurai</td>\n",
       "      <td>Action/Adventure</td>\n",
       "      <td>1</td>\n",
       "      <td>1</td>\n",
       "      <td>1</td>\n",
       "      <td>0</td>\n",
       "      <td>'2017-09-06'</td>\n",
       "    </tr>\n",
       "    <tr>\n",
       "      <th>7</th>\n",
       "      <td>311</td>\n",
       "      <td>Battle Royale</td>\n",
       "      <td>Fighting</td>\n",
       "      <td>0</td>\n",
       "      <td>1</td>\n",
       "      <td>0</td>\n",
       "      <td>1</td>\n",
       "      <td>'2017-11-01'</td>\n",
       "    </tr>\n",
       "    <tr>\n",
       "      <th>8</th>\n",
       "      <td>312</td>\n",
       "      <td>Juni's Hair Studio</td>\n",
       "      <td>Slice of Life</td>\n",
       "      <td>0</td>\n",
       "      <td>0</td>\n",
       "      <td>1</td>\n",
       "      <td>0</td>\n",
       "      <td>'2017-08-02'</td>\n",
       "    </tr>\n",
       "    <tr>\n",
       "      <th>9</th>\n",
       "      <td>313</td>\n",
       "      <td>Kreepy Krawler</td>\n",
       "      <td>Comedy</td>\n",
       "      <td>0</td>\n",
       "      <td>0</td>\n",
       "      <td>1</td>\n",
       "      <td>1</td>\n",
       "      <td>'2017-10-04'</td>\n",
       "    </tr>\n",
       "    <tr>\n",
       "      <th>10</th>\n",
       "      <td>314</td>\n",
       "      <td>Sorcerer's Vanity</td>\n",
       "      <td>Fantasy</td>\n",
       "      <td>0</td>\n",
       "      <td>1</td>\n",
       "      <td>1</td>\n",
       "      <td>1</td>\n",
       "      <td>'2017-12-06'</td>\n",
       "    </tr>\n",
       "    <tr>\n",
       "      <th>11</th>\n",
       "      <td>315</td>\n",
       "      <td>Castle Climber III</td>\n",
       "      <td>Action/Adventure</td>\n",
       "      <td>0</td>\n",
       "      <td>0</td>\n",
       "      <td>1</td>\n",
       "      <td>1</td>\n",
       "      <td>'2017-07-19'</td>\n",
       "    </tr>\n",
       "  </tbody>\n",
       "</table>\n",
       "</div>"
      ],
      "text/plain": [
       "    Game_ID                                       Game_Name             Theme  \\\n",
       "0       304                                   Asian Dynasty           Fantasy   \n",
       "1       305                                  Hot Rod Demons              Cars   \n",
       "2       306                                       Hot Date!           Romance   \n",
       "3       307                              Into the Depths II            Horror   \n",
       "4       308                                 Crown of Thorns           Fantasy   \n",
       "5       309  Prehistoric Deathmatch: Revenge of the Raptors          Survival   \n",
       "6       310                          Legends of the Samurai  Action/Adventure   \n",
       "7       311                                   Battle Royale          Fighting   \n",
       "8       312                              Juni's Hair Studio     Slice of Life   \n",
       "9       313                                  Kreepy Krawler            Comedy   \n",
       "10      314                               Sorcerer's Vanity           Fantasy   \n",
       "11      315                              Castle Climber III  Action/Adventure   \n",
       "\n",
       "    Co-operative_Play  Player_vs_Player  Achievements  Leaderboards  \\\n",
       "0                   1                 1             0             1   \n",
       "1                   0                 1             1             1   \n",
       "2                   0                 0             0             0   \n",
       "3                   0                 0             1             1   \n",
       "4                   1                 0             1             0   \n",
       "5                   1                 0             1             0   \n",
       "6                   1                 1             1             0   \n",
       "7                   0                 1             0             1   \n",
       "8                   0                 0             1             0   \n",
       "9                   0                 0             1             1   \n",
       "10                  0                 1             1             1   \n",
       "11                  0                 0             1             1   \n",
       "\n",
       "    Release_Date  \n",
       "0   '2017-01-04'  \n",
       "1   '2017-04-05'  \n",
       "2   '2017-02-01'  \n",
       "3   '2017-03-01'  \n",
       "4   '2017-05-03'  \n",
       "5   '2017-06-21'  \n",
       "6   '2017-09-06'  \n",
       "7   '2017-11-01'  \n",
       "8   '2017-08-02'  \n",
       "9   '2017-10-04'  \n",
       "10  '2017-12-06'  \n",
       "11  '2017-07-19'  "
      ]
     },
     "execution_count": 3,
     "metadata": {},
     "output_type": "execute_result"
    }
   ],
   "source": [
    "games.head(12)"
   ]
  },
  {
   "cell_type": "code",
   "execution_count": 4,
   "metadata": {},
   "outputs": [
    {
     "data": {
      "text/html": [
       "<div>\n",
       "<style scoped>\n",
       "    .dataframe tbody tr th:only-of-type {\n",
       "        vertical-align: middle;\n",
       "    }\n",
       "\n",
       "    .dataframe tbody tr th {\n",
       "        vertical-align: top;\n",
       "    }\n",
       "\n",
       "    .dataframe thead th {\n",
       "        text-align: right;\n",
       "    }\n",
       "</style>\n",
       "<table border=\"1\" class=\"dataframe\">\n",
       "  <thead>\n",
       "    <tr style=\"text-align: right;\">\n",
       "      <th></th>\n",
       "      <th>Platform_Key</th>\n",
       "      <th>Platform_Name</th>\n",
       "      <th>Provider</th>\n",
       "      <th>License_Date</th>\n",
       "      <th>Mobile</th>\n",
       "      <th>Console</th>\n",
       "    </tr>\n",
       "  </thead>\n",
       "  <tbody>\n",
       "    <tr>\n",
       "      <th>0</th>\n",
       "      <td>1</td>\n",
       "      <td>iOS</td>\n",
       "      <td>Apple</td>\n",
       "      <td>'2013-03-15'</td>\n",
       "      <td>1</td>\n",
       "      <td>0</td>\n",
       "    </tr>\n",
       "    <tr>\n",
       "      <th>1</th>\n",
       "      <td>2</td>\n",
       "      <td>Android</td>\n",
       "      <td>Google</td>\n",
       "      <td>'2011-08-02'</td>\n",
       "      <td>1</td>\n",
       "      <td>0</td>\n",
       "    </tr>\n",
       "    <tr>\n",
       "      <th>2</th>\n",
       "      <td>3</td>\n",
       "      <td>Steam</td>\n",
       "      <td>Valve</td>\n",
       "      <td>'2012-02-28'</td>\n",
       "      <td>0</td>\n",
       "      <td>0</td>\n",
       "    </tr>\n",
       "    <tr>\n",
       "      <th>3</th>\n",
       "      <td>4</td>\n",
       "      <td>Playstation 4</td>\n",
       "      <td>Sony</td>\n",
       "      <td>'2014-02-09'</td>\n",
       "      <td>0</td>\n",
       "      <td>1</td>\n",
       "    </tr>\n",
       "  </tbody>\n",
       "</table>\n",
       "</div>"
      ],
      "text/plain": [
       "   Platform_Key  Platform_Name Provider  License_Date  Mobile  Console\n",
       "0             1            iOS    Apple  '2013-03-15'       1        0\n",
       "1             2        Android   Google  '2011-08-02'       1        0\n",
       "2             3          Steam    Valve  '2012-02-28'       0        0\n",
       "3             4  Playstation 4     Sony  '2014-02-09'       0        1"
      ]
     },
     "execution_count": 4,
     "metadata": {},
     "output_type": "execute_result"
    }
   ],
   "source": [
    "platforms.head()"
   ]
  },
  {
   "cell_type": "code",
   "execution_count": 5,
   "metadata": {},
   "outputs": [
    {
     "data": {
      "text/html": [
       "<div>\n",
       "<style scoped>\n",
       "    .dataframe tbody tr th:only-of-type {\n",
       "        vertical-align: middle;\n",
       "    }\n",
       "\n",
       "    .dataframe tbody tr th {\n",
       "        vertical-align: top;\n",
       "    }\n",
       "\n",
       "    .dataframe thead th {\n",
       "        text-align: right;\n",
       "    }\n",
       "</style>\n",
       "<table border=\"1\" class=\"dataframe\">\n",
       "  <thead>\n",
       "    <tr style=\"text-align: right;\">\n",
       "      <th></th>\n",
       "      <th>Platform_Key</th>\n",
       "      <th>Game_Key</th>\n",
       "      <th>Day</th>\n",
       "      <th>Game_Player_Seconds</th>\n",
       "      <th>Game_Player_Spend_Microtrans_cents</th>\n",
       "      <th>Game_Unique_Accounts</th>\n",
       "      <th>Total_Player_Seconds</th>\n",
       "      <th>Total_Player_Spend_Microtrans_cents</th>\n",
       "      <th>Total_Unique_Accounts</th>\n",
       "    </tr>\n",
       "  </thead>\n",
       "  <tbody>\n",
       "    <tr>\n",
       "      <th>0</th>\n",
       "      <td>1</td>\n",
       "      <td>304</td>\n",
       "      <td>'2017-01-04'</td>\n",
       "      <td>1498544.91</td>\n",
       "      <td>614050.18</td>\n",
       "      <td>3623</td>\n",
       "      <td>44986779.21</td>\n",
       "      <td>32322890.63</td>\n",
       "      <td>16806</td>\n",
       "    </tr>\n",
       "    <tr>\n",
       "      <th>1</th>\n",
       "      <td>2</td>\n",
       "      <td>304</td>\n",
       "      <td>'2017-01-04'</td>\n",
       "      <td>976169.28</td>\n",
       "      <td>343607.89</td>\n",
       "      <td>3894</td>\n",
       "      <td>20194511.91</td>\n",
       "      <td>11852433.79</td>\n",
       "      <td>10503</td>\n",
       "    </tr>\n",
       "    <tr>\n",
       "      <th>2</th>\n",
       "      <td>4</td>\n",
       "      <td>304</td>\n",
       "      <td>'2017-01-04'</td>\n",
       "      <td>301722.36</td>\n",
       "      <td>0.00</td>\n",
       "      <td>729</td>\n",
       "      <td>9057797.82</td>\n",
       "      <td>0.00</td>\n",
       "      <td>3384</td>\n",
       "    </tr>\n",
       "    <tr>\n",
       "      <th>3</th>\n",
       "      <td>3</td>\n",
       "      <td>304</td>\n",
       "      <td>'2017-01-04'</td>\n",
       "      <td>894703.65</td>\n",
       "      <td>0.00</td>\n",
       "      <td>2163</td>\n",
       "      <td>26859277.53</td>\n",
       "      <td>0.00</td>\n",
       "      <td>10034</td>\n",
       "    </tr>\n",
       "    <tr>\n",
       "      <th>4</th>\n",
       "      <td>1</td>\n",
       "      <td>304</td>\n",
       "      <td>'2017-01-05'</td>\n",
       "      <td>2635440.39</td>\n",
       "      <td>1242096.43</td>\n",
       "      <td>5666</td>\n",
       "      <td>46867490.76</td>\n",
       "      <td>34791368.00</td>\n",
       "      <td>17332</td>\n",
       "    </tr>\n",
       "  </tbody>\n",
       "</table>\n",
       "</div>"
      ],
      "text/plain": [
       "   Platform_Key  Game_Key           Day  Game_Player_Seconds  \\\n",
       "0             1       304  '2017-01-04'           1498544.91   \n",
       "1             2       304  '2017-01-04'            976169.28   \n",
       "2             4       304  '2017-01-04'            301722.36   \n",
       "3             3       304  '2017-01-04'            894703.65   \n",
       "4             1       304  '2017-01-05'           2635440.39   \n",
       "\n",
       "   Game_Player_Spend_Microtrans_cents  Game_Unique_Accounts  \\\n",
       "0                           614050.18                  3623   \n",
       "1                           343607.89                  3894   \n",
       "2                                0.00                   729   \n",
       "3                                0.00                  2163   \n",
       "4                          1242096.43                  5666   \n",
       "\n",
       "   Total_Player_Seconds  Total_Player_Spend_Microtrans_cents  \\\n",
       "0           44986779.21                          32322890.63   \n",
       "1           20194511.91                          11852433.79   \n",
       "2            9057797.82                                 0.00   \n",
       "3           26859277.53                                 0.00   \n",
       "4           46867490.76                          34791368.00   \n",
       "\n",
       "   Total_Unique_Accounts  \n",
       "0                  16806  \n",
       "1                  10503  \n",
       "2                   3384  \n",
       "3                  10034  \n",
       "4                  17332  "
      ]
     },
     "execution_count": 5,
     "metadata": {},
     "output_type": "execute_result"
    }
   ],
   "source": [
    "data.head()"
   ]
  },
  {
   "cell_type": "markdown",
   "metadata": {},
   "source": [
    "A quick inspection of each DataFrame reveals that the data is clean and does not contain any missing or null values. The analysis can now commence.\n",
    "\n",
    "The DataFrames will be merged on their common columns so that all the data I need is in one DataFrame. First, the **Game_Key** column needs to be renamed **Game_ID** so that the **games** and **data** DataFrames can be joined."
   ]
  },
  {
   "cell_type": "code",
   "execution_count": 6,
   "metadata": {},
   "outputs": [],
   "source": [
    "data.rename(columns = {'Game_Key':'Game_ID'}, inplace = True)\n",
    "df1 = pd.merge(games, data, how='left')\n",
    "df2 = pd.merge(platforms, data, how='left')\n",
    "df = pd.merge(df1, df2, how='left')"
   ]
  },
  {
   "cell_type": "markdown",
   "metadata": {},
   "source": [
    "All games released after August 1, 2017 on the Android platform employ the new Loot Box strategy. Therefore, I will create a column **Has_Lootbox** to group these games for my analysis."
   ]
  },
  {
   "cell_type": "code",
   "execution_count": 7,
   "metadata": {},
   "outputs": [],
   "source": [
    "df['Release_Date']= pd.to_datetime(df['Release_Date'])\n",
    "df['Has_Lootbox'] = np.where((df['Release_Date'] > '2017-08-01') & (df['Platform_Name'] == 'Android'), 1, 0)"
   ]
  },
  {
   "cell_type": "code",
   "execution_count": 8,
   "metadata": {},
   "outputs": [
    {
     "data": {
      "text/html": [
       "<div>\n",
       "<style scoped>\n",
       "    .dataframe tbody tr th:only-of-type {\n",
       "        vertical-align: middle;\n",
       "    }\n",
       "\n",
       "    .dataframe tbody tr th {\n",
       "        vertical-align: top;\n",
       "    }\n",
       "\n",
       "    .dataframe thead th {\n",
       "        text-align: right;\n",
       "    }\n",
       "</style>\n",
       "<table border=\"1\" class=\"dataframe\">\n",
       "  <thead>\n",
       "    <tr style=\"text-align: right;\">\n",
       "      <th></th>\n",
       "      <th>Game_ID</th>\n",
       "      <th>Game_Name</th>\n",
       "      <th>Theme</th>\n",
       "      <th>Co-operative_Play</th>\n",
       "      <th>Player_vs_Player</th>\n",
       "      <th>Achievements</th>\n",
       "      <th>Leaderboards</th>\n",
       "      <th>Release_Date</th>\n",
       "      <th>Platform_Key</th>\n",
       "      <th>Day</th>\n",
       "      <th>...</th>\n",
       "      <th>Game_Unique_Accounts</th>\n",
       "      <th>Total_Player_Seconds</th>\n",
       "      <th>Total_Player_Spend_Microtrans_cents</th>\n",
       "      <th>Total_Unique_Accounts</th>\n",
       "      <th>Platform_Name</th>\n",
       "      <th>Provider</th>\n",
       "      <th>License_Date</th>\n",
       "      <th>Mobile</th>\n",
       "      <th>Console</th>\n",
       "      <th>Has_Lootbox</th>\n",
       "    </tr>\n",
       "  </thead>\n",
       "  <tbody>\n",
       "    <tr>\n",
       "      <th>0</th>\n",
       "      <td>304</td>\n",
       "      <td>Asian Dynasty</td>\n",
       "      <td>Fantasy</td>\n",
       "      <td>1</td>\n",
       "      <td>1</td>\n",
       "      <td>0</td>\n",
       "      <td>1</td>\n",
       "      <td>2017-01-04</td>\n",
       "      <td>1</td>\n",
       "      <td>'2017-01-04'</td>\n",
       "      <td>...</td>\n",
       "      <td>3623</td>\n",
       "      <td>44986779.21</td>\n",
       "      <td>32322890.63</td>\n",
       "      <td>16806</td>\n",
       "      <td>iOS</td>\n",
       "      <td>Apple</td>\n",
       "      <td>'2013-03-15'</td>\n",
       "      <td>1</td>\n",
       "      <td>0</td>\n",
       "      <td>0</td>\n",
       "    </tr>\n",
       "    <tr>\n",
       "      <th>1</th>\n",
       "      <td>304</td>\n",
       "      <td>Asian Dynasty</td>\n",
       "      <td>Fantasy</td>\n",
       "      <td>1</td>\n",
       "      <td>1</td>\n",
       "      <td>0</td>\n",
       "      <td>1</td>\n",
       "      <td>2017-01-04</td>\n",
       "      <td>2</td>\n",
       "      <td>'2017-01-04'</td>\n",
       "      <td>...</td>\n",
       "      <td>3894</td>\n",
       "      <td>20194511.91</td>\n",
       "      <td>11852433.79</td>\n",
       "      <td>10503</td>\n",
       "      <td>Android</td>\n",
       "      <td>Google</td>\n",
       "      <td>'2011-08-02'</td>\n",
       "      <td>1</td>\n",
       "      <td>0</td>\n",
       "      <td>0</td>\n",
       "    </tr>\n",
       "    <tr>\n",
       "      <th>2</th>\n",
       "      <td>304</td>\n",
       "      <td>Asian Dynasty</td>\n",
       "      <td>Fantasy</td>\n",
       "      <td>1</td>\n",
       "      <td>1</td>\n",
       "      <td>0</td>\n",
       "      <td>1</td>\n",
       "      <td>2017-01-04</td>\n",
       "      <td>4</td>\n",
       "      <td>'2017-01-04'</td>\n",
       "      <td>...</td>\n",
       "      <td>729</td>\n",
       "      <td>9057797.82</td>\n",
       "      <td>0.00</td>\n",
       "      <td>3384</td>\n",
       "      <td>Playstation 4</td>\n",
       "      <td>Sony</td>\n",
       "      <td>'2014-02-09'</td>\n",
       "      <td>0</td>\n",
       "      <td>1</td>\n",
       "      <td>0</td>\n",
       "    </tr>\n",
       "    <tr>\n",
       "      <th>3</th>\n",
       "      <td>304</td>\n",
       "      <td>Asian Dynasty</td>\n",
       "      <td>Fantasy</td>\n",
       "      <td>1</td>\n",
       "      <td>1</td>\n",
       "      <td>0</td>\n",
       "      <td>1</td>\n",
       "      <td>2017-01-04</td>\n",
       "      <td>3</td>\n",
       "      <td>'2017-01-04'</td>\n",
       "      <td>...</td>\n",
       "      <td>2163</td>\n",
       "      <td>26859277.53</td>\n",
       "      <td>0.00</td>\n",
       "      <td>10034</td>\n",
       "      <td>Steam</td>\n",
       "      <td>Valve</td>\n",
       "      <td>'2012-02-28'</td>\n",
       "      <td>0</td>\n",
       "      <td>0</td>\n",
       "      <td>0</td>\n",
       "    </tr>\n",
       "    <tr>\n",
       "      <th>4</th>\n",
       "      <td>304</td>\n",
       "      <td>Asian Dynasty</td>\n",
       "      <td>Fantasy</td>\n",
       "      <td>1</td>\n",
       "      <td>1</td>\n",
       "      <td>0</td>\n",
       "      <td>1</td>\n",
       "      <td>2017-01-04</td>\n",
       "      <td>1</td>\n",
       "      <td>'2017-01-05'</td>\n",
       "      <td>...</td>\n",
       "      <td>5666</td>\n",
       "      <td>46867490.76</td>\n",
       "      <td>34791368.00</td>\n",
       "      <td>17332</td>\n",
       "      <td>iOS</td>\n",
       "      <td>Apple</td>\n",
       "      <td>'2013-03-15'</td>\n",
       "      <td>1</td>\n",
       "      <td>0</td>\n",
       "      <td>0</td>\n",
       "    </tr>\n",
       "    <tr>\n",
       "      <th>...</th>\n",
       "      <td>...</td>\n",
       "      <td>...</td>\n",
       "      <td>...</td>\n",
       "      <td>...</td>\n",
       "      <td>...</td>\n",
       "      <td>...</td>\n",
       "      <td>...</td>\n",
       "      <td>...</td>\n",
       "      <td>...</td>\n",
       "      <td>...</td>\n",
       "      <td>...</td>\n",
       "      <td>...</td>\n",
       "      <td>...</td>\n",
       "      <td>...</td>\n",
       "      <td>...</td>\n",
       "      <td>...</td>\n",
       "      <td>...</td>\n",
       "      <td>...</td>\n",
       "      <td>...</td>\n",
       "      <td>...</td>\n",
       "      <td>...</td>\n",
       "    </tr>\n",
       "    <tr>\n",
       "      <th>395</th>\n",
       "      <td>311</td>\n",
       "      <td>Battle Royale</td>\n",
       "      <td>Fighting</td>\n",
       "      <td>0</td>\n",
       "      <td>1</td>\n",
       "      <td>0</td>\n",
       "      <td>1</td>\n",
       "      <td>2017-11-01</td>\n",
       "      <td>3</td>\n",
       "      <td>'2017-11-01'</td>\n",
       "      <td>...</td>\n",
       "      <td>2425</td>\n",
       "      <td>39158510.97</td>\n",
       "      <td>0.00</td>\n",
       "      <td>14036</td>\n",
       "      <td>Steam</td>\n",
       "      <td>Valve</td>\n",
       "      <td>'2012-02-28'</td>\n",
       "      <td>0</td>\n",
       "      <td>0</td>\n",
       "      <td>0</td>\n",
       "    </tr>\n",
       "    <tr>\n",
       "      <th>396</th>\n",
       "      <td>311</td>\n",
       "      <td>Battle Royale</td>\n",
       "      <td>Fighting</td>\n",
       "      <td>0</td>\n",
       "      <td>1</td>\n",
       "      <td>0</td>\n",
       "      <td>1</td>\n",
       "      <td>2017-11-01</td>\n",
       "      <td>1</td>\n",
       "      <td>'2017-11-02'</td>\n",
       "      <td>...</td>\n",
       "      <td>6446</td>\n",
       "      <td>60097632.21</td>\n",
       "      <td>41337698.57</td>\n",
       "      <td>22190</td>\n",
       "      <td>iOS</td>\n",
       "      <td>Apple</td>\n",
       "      <td>'2013-03-15'</td>\n",
       "      <td>1</td>\n",
       "      <td>0</td>\n",
       "      <td>0</td>\n",
       "    </tr>\n",
       "    <tr>\n",
       "      <th>397</th>\n",
       "      <td>311</td>\n",
       "      <td>Battle Royale</td>\n",
       "      <td>Fighting</td>\n",
       "      <td>0</td>\n",
       "      <td>1</td>\n",
       "      <td>0</td>\n",
       "      <td>1</td>\n",
       "      <td>2017-11-01</td>\n",
       "      <td>2</td>\n",
       "      <td>'2017-11-02'</td>\n",
       "      <td>...</td>\n",
       "      <td>7227</td>\n",
       "      <td>31149350.55</td>\n",
       "      <td>15840051.21</td>\n",
       "      <td>17571</td>\n",
       "      <td>Android</td>\n",
       "      <td>Google</td>\n",
       "      <td>'2011-08-02'</td>\n",
       "      <td>1</td>\n",
       "      <td>0</td>\n",
       "      <td>1</td>\n",
       "    </tr>\n",
       "    <tr>\n",
       "      <th>398</th>\n",
       "      <td>311</td>\n",
       "      <td>Battle Royale</td>\n",
       "      <td>Fighting</td>\n",
       "      <td>0</td>\n",
       "      <td>1</td>\n",
       "      <td>0</td>\n",
       "      <td>1</td>\n",
       "      <td>2017-11-01</td>\n",
       "      <td>4</td>\n",
       "      <td>'2017-11-02'</td>\n",
       "      <td>...</td>\n",
       "      <td>1222</td>\n",
       "      <td>11395848.57</td>\n",
       "      <td>0.00</td>\n",
       "      <td>4208</td>\n",
       "      <td>Playstation 4</td>\n",
       "      <td>Sony</td>\n",
       "      <td>'2014-02-09'</td>\n",
       "      <td>0</td>\n",
       "      <td>1</td>\n",
       "      <td>0</td>\n",
       "    </tr>\n",
       "    <tr>\n",
       "      <th>399</th>\n",
       "      <td>311</td>\n",
       "      <td>Battle Royale</td>\n",
       "      <td>Fighting</td>\n",
       "      <td>0</td>\n",
       "      <td>1</td>\n",
       "      <td>0</td>\n",
       "      <td>1</td>\n",
       "      <td>2017-11-01</td>\n",
       "      <td>3</td>\n",
       "      <td>'2017-11-02'</td>\n",
       "      <td>...</td>\n",
       "      <td>4862</td>\n",
       "      <td>45332784.45</td>\n",
       "      <td>0.00</td>\n",
       "      <td>16738</td>\n",
       "      <td>Steam</td>\n",
       "      <td>Valve</td>\n",
       "      <td>'2012-02-28'</td>\n",
       "      <td>0</td>\n",
       "      <td>0</td>\n",
       "      <td>0</td>\n",
       "    </tr>\n",
       "  </tbody>\n",
       "</table>\n",
       "<p>400 rows × 22 columns</p>\n",
       "</div>"
      ],
      "text/plain": [
       "     Game_ID      Game_Name     Theme  Co-operative_Play  Player_vs_Player  \\\n",
       "0        304  Asian Dynasty   Fantasy                  1                 1   \n",
       "1        304  Asian Dynasty   Fantasy                  1                 1   \n",
       "2        304  Asian Dynasty   Fantasy                  1                 1   \n",
       "3        304  Asian Dynasty   Fantasy                  1                 1   \n",
       "4        304  Asian Dynasty   Fantasy                  1                 1   \n",
       "..       ...            ...       ...                ...               ...   \n",
       "395      311  Battle Royale  Fighting                  0                 1   \n",
       "396      311  Battle Royale  Fighting                  0                 1   \n",
       "397      311  Battle Royale  Fighting                  0                 1   \n",
       "398      311  Battle Royale  Fighting                  0                 1   \n",
       "399      311  Battle Royale  Fighting                  0                 1   \n",
       "\n",
       "     Achievements  Leaderboards Release_Date  Platform_Key           Day  ...  \\\n",
       "0               0             1   2017-01-04             1  '2017-01-04'  ...   \n",
       "1               0             1   2017-01-04             2  '2017-01-04'  ...   \n",
       "2               0             1   2017-01-04             4  '2017-01-04'  ...   \n",
       "3               0             1   2017-01-04             3  '2017-01-04'  ...   \n",
       "4               0             1   2017-01-04             1  '2017-01-05'  ...   \n",
       "..            ...           ...          ...           ...           ...  ...   \n",
       "395             0             1   2017-11-01             3  '2017-11-01'  ...   \n",
       "396             0             1   2017-11-01             1  '2017-11-02'  ...   \n",
       "397             0             1   2017-11-01             2  '2017-11-02'  ...   \n",
       "398             0             1   2017-11-01             4  '2017-11-02'  ...   \n",
       "399             0             1   2017-11-01             3  '2017-11-02'  ...   \n",
       "\n",
       "     Game_Unique_Accounts  Total_Player_Seconds  \\\n",
       "0                    3623           44986779.21   \n",
       "1                    3894           20194511.91   \n",
       "2                     729            9057797.82   \n",
       "3                    2163           26859277.53   \n",
       "4                    5666           46867490.76   \n",
       "..                    ...                   ...   \n",
       "395                  2425           39158510.97   \n",
       "396                  6446           60097632.21   \n",
       "397                  7227           31149350.55   \n",
       "398                  1222           11395848.57   \n",
       "399                  4862           45332784.45   \n",
       "\n",
       "     Total_Player_Spend_Microtrans_cents  Total_Unique_Accounts  \\\n",
       "0                            32322890.63                  16806   \n",
       "1                            11852433.79                  10503   \n",
       "2                                   0.00                   3384   \n",
       "3                                   0.00                  10034   \n",
       "4                            34791368.00                  17332   \n",
       "..                                   ...                    ...   \n",
       "395                                 0.00                  14036   \n",
       "396                          41337698.57                  22190   \n",
       "397                          15840051.21                  17571   \n",
       "398                                 0.00                   4208   \n",
       "399                                 0.00                  16738   \n",
       "\n",
       "     Platform_Name  Provider  License_Date Mobile Console  Has_Lootbox  \n",
       "0              iOS     Apple  '2013-03-15'      1       0            0  \n",
       "1          Android    Google  '2011-08-02'      1       0            0  \n",
       "2    Playstation 4      Sony  '2014-02-09'      0       1            0  \n",
       "3            Steam     Valve  '2012-02-28'      0       0            0  \n",
       "4              iOS     Apple  '2013-03-15'      1       0            0  \n",
       "..             ...       ...           ...    ...     ...          ...  \n",
       "395          Steam     Valve  '2012-02-28'      0       0            0  \n",
       "396            iOS     Apple  '2013-03-15'      1       0            0  \n",
       "397        Android    Google  '2011-08-02'      1       0            1  \n",
       "398  Playstation 4      Sony  '2014-02-09'      0       1            0  \n",
       "399          Steam     Valve  '2012-02-28'      0       0            0  \n",
       "\n",
       "[400 rows x 22 columns]"
      ]
     },
     "execution_count": 8,
     "metadata": {},
     "output_type": "execute_result"
    }
   ],
   "source": [
    "df.head(400)"
   ]
  },
  {
   "cell_type": "markdown",
   "metadata": {},
   "source": [
    "Now that the data is aggregated by Loot Box in a single DataFrame, I will explore the data through visualizations.\n",
    "\n",
    "The first plot shows the mean values for the **Game_Player_Spend_Microtrans_cents** column for games with and without Loot Boxes."
   ]
  },
  {
   "cell_type": "code",
   "execution_count": 9,
   "metadata": {},
   "outputs": [
    {
     "data": {
      "text/plain": [
       "Text(0, 0.5, 'Average Cents Spent on Microtransactions')"
      ]
     },
     "execution_count": 9,
     "metadata": {},
     "output_type": "execute_result"
    },
    {
     "data": {
      "image/png": "[encoded data removed]",
      "text/plain": [
       "<Figure size 576x432 with 1 Axes>"
      ]
     },
     "metadata": {
      "needs_background": "light"
     },
     "output_type": "display_data"
    }
   ],
   "source": [
    "plt.figure(figsize=(8,6))\n",
    "sns.barplot(x=df.Has_Lootbox, y=df.Game_Player_Spend_Microtrans_cents)\n",
    "plt.title('Average Cents Spent on Microtransactions - Loot Boxes')\n",
    "plt.xlabel('Has Loot Box')\n",
    "plt.ylabel('Average Cents Spent on Microtransactions')"
   ]
  },
  {
   "cell_type": "markdown",
   "metadata": {},
   "source": [
    "At first glance, it appears that gamers are spending more on microtransactions in games that have Loot Boxes. However, when digging deeper into the data, the Steam and Playstation 4 platforms do not allow microtransactions. This results in skewed data as the 0 values for these platforms are averaged in.\n",
    "\n",
    "It would be more useful to investigate whether players spent more on microtransactions with only the Android platform data. New DataFrames will be created to extract this data."
   ]
  },
  {
   "cell_type": "code",
   "execution_count": 10,
   "metadata": {},
   "outputs": [
    {
     "data": {
      "text/plain": [
       "168"
      ]
     },
     "execution_count": 10,
     "metadata": {},
     "output_type": "execute_result"
    }
   ],
   "source": [
    "android_data = df.loc[df['Platform_Name'] == 'Android', :]\n",
    "len(android_data)"
   ]
  },
  {
   "cell_type": "markdown",
   "metadata": {},
   "source": [
    "There are 168 total rows for the Android platform subset of data. Next, two new DataFrames will be created to separate the games with Loot Boxes and without."
   ]
  },
  {
   "cell_type": "code",
   "execution_count": 11,
   "metadata": {},
   "outputs": [
    {
     "data": {
      "text/plain": [
       "98"
      ]
     },
     "execution_count": 11,
     "metadata": {},
     "output_type": "execute_result"
    }
   ],
   "source": [
    "android_no_lootbox = android_data.loc[android_data['Has_Lootbox'] == 0, :]\n",
    "len(android_no_lootbox)"
   ]
  },
  {
   "cell_type": "code",
   "execution_count": 12,
   "metadata": {},
   "outputs": [
    {
     "data": {
      "text/plain": [
       "70"
      ]
     },
     "execution_count": 12,
     "metadata": {},
     "output_type": "execute_result"
    }
   ],
   "source": [
    "android_lootbox = android_data.loc[android_data['Has_Lootbox'] == 1, :]\n",
    "len(android_lootbox)"
   ]
  },
  {
   "cell_type": "markdown",
   "metadata": {},
   "source": [
    "Although we are working with a smaller subset of data, the mean values will be more accurate now that the other platforms have been removed.\n",
    "\n",
    "The second plot shows the mean values for the **Game_Player_Spend_Microtrans_cents** column for **Android** games with and without Loot Boxes."
   ]
  },
  {
   "cell_type": "code",
   "execution_count": 13,
   "metadata": {},
   "outputs": [
    {
     "data": {
      "text/plain": [
       "Text(0, 0.5, 'Average Cents Spent on Microtransactions')"
      ]
     },
     "execution_count": 13,
     "metadata": {},
     "output_type": "execute_result"
    },
    {
     "data": {
      "image/png": "[encoded data removed]",
      "text/plain": [
       "<Figure size 576x432 with 1 Axes>"
      ]
     },
     "metadata": {
      "needs_background": "light"
     },
     "output_type": "display_data"
    }
   ],
   "source": [
    "plt.figure(figsize=(8, 6))\n",
    "sns.barplot(x=android_data.Has_Lootbox, y=android_data.Game_Player_Spend_Microtrans_cents)\n",
    "plt.title('Average Cents Spent on Microtransactions for Android Games - Loot Boxes')\n",
    "plt.xlabel('Has Loot Box')\n",
    "plt.ylabel('Average Cents Spent on Microtransactions')"
   ]
  },
  {
   "cell_type": "markdown",
   "metadata": {},
   "source": [
    "Android gamers still appear to be spending more money on microtransactions in games with Loot Boxes. However, the difference is much less pronounced now that the 0 values have been eliminated and the error bars are within each other's range. \n",
    "\n",
    "One way to determine whether this data is statistically significant is to conduct a **Two-Sample T-Test**. These tests are useful for investigating an association between a binary categorical variable (**Has_Lootbox**) and a quantitative variable (**Game_Player_Spend_Microtrans_cents**). For typical analysis, a **p_value** of less than 0.05 is a statistically significant result."
   ]
  },
  {
   "cell_type": "code",
   "execution_count": 14,
   "metadata": {},
   "outputs": [
    {
     "name": "stdout",
     "output_type": "stream",
     "text": [
      "0.21261647727587996\n"
     ]
    }
   ],
   "source": [
    "tstat, pval = scipy.stats.ttest_ind(android_no_lootbox.Game_Player_Spend_Microtrans_cents, android_lootbox.Game_Player_Spend_Microtrans_cents)\n",
    "print(pval)"
   ]
  },
  {
   "cell_type": "markdown",
   "metadata": {},
   "source": [
    "With a **p_value** greater than 0.05, this data does not appear to be statistically significant. Therefore, there is insufficient data to make a firm conclusion that Loot Boxes contribute towards more money spent on microtransactions for Android games.\n",
    "\n",
    "The third plot shows the mean values for the **Game_Player_Seconds** column for **Android** games with and without Loot Boxes."
   ]
  },
  {
   "cell_type": "code",
   "execution_count": 15,
   "metadata": {},
   "outputs": [
    {
     "data": {
      "text/plain": [
       "Text(0, 0.5, 'Average Seconds Spent Playing (millions)')"
      ]
     },
     "execution_count": 15,
     "metadata": {},
     "output_type": "execute_result"
    },
    {
     "data": {
      "image/png": "[encoded data removed]",
      "text/plain": [
       "<Figure size 576x432 with 1 Axes>"
      ]
     },
     "metadata": {
      "needs_background": "light"
     },
     "output_type": "display_data"
    }
   ],
   "source": [
    "plt.figure(figsize=(8, 6))\n",
    "sns.barplot(x=android_data.Has_Lootbox, y=android_data.Game_Player_Seconds)\n",
    "plt.title('Average Seconds Spent Playing Android Games - Loot Boxes')\n",
    "plt.xlabel('Has Loot Box')\n",
    "plt.ylabel('Average Seconds Spent Playing (millions)')"
   ]
  },
  {
   "cell_type": "markdown",
   "metadata": {},
   "source": [
    "Loot Boxes appear to have little to no effect on the average amount of seconds gamers spend playing.\n",
    "\n",
    "The final plot shows the mean values for the **Game_Unique_Accounts** column for Android games with and without Loot Boxes."
   ]
  },
  {
   "cell_type": "code",
   "execution_count": 16,
   "metadata": {},
   "outputs": [
    {
     "data": {
      "text/plain": [
       "Text(0, 0.5, 'Average Number of Unique Accounts')"
      ]
     },
     "execution_count": 16,
     "metadata": {},
     "output_type": "execute_result"
    },
    {
     "data": {
      "image/png": "[encoded data removed]",
      "text/plain": [
       "<Figure size 576x432 with 1 Axes>"
      ]
     },
     "metadata": {
      "needs_background": "light"
     },
     "output_type": "display_data"
    }
   ],
   "source": [
    "plt.figure(figsize=(8, 6))\n",
    "sns.barplot(x=android_data.Has_Lootbox, y=android_data.Game_Unique_Accounts)\n",
    "plt.title('Average Number of Unique Accounts for Android Games - Loot Boxes')\n",
    "plt.xlabel('Has Loot Box')\n",
    "plt.ylabel('Average Number of Unique Accounts')"
   ]
  },
  {
   "cell_type": "code",
   "execution_count": 17,
   "metadata": {},
   "outputs": [
    {
     "name": "stdout",
     "output_type": "stream",
     "text": [
      "0.001119526640450398\n"
     ]
    }
   ],
   "source": [
    "tstat, pval = scipy.stats.ttest_ind(android_no_lootbox.Game_Unique_Accounts, android_lootbox.Game_Unique_Accounts)\n",
    "print(pval)"
   ]
  },
  {
   "cell_type": "markdown",
   "metadata": {},
   "source": [
    "There appears to be a higher average of unique player accounts in Android games with Loot Boxes and the result is statistically significant. This could indicate more interest from a broader audience of players. "
   ]
  },
  {
   "cell_type": "markdown",
   "metadata": {},
   "source": [
    "# Conclusions\n",
    "\n",
    "* Loot Boxes have a small but statistically insignificant increase in money spent on in-game microtransactions. More data is necessary to conduct further analysis. For example, data on the costs of implementing Loot Boxes could provide a more convincing narrative on whether the new strategy is effective.\n",
    "\n",
    "* Gamers are not spending more time playing Android games that contain Loot Boxes.\n",
    "\n",
    "* There is a broader user base for Android games with Loot Boxes implemented. Over time, this could lead to a higher number of microtransactions and warrants further study."
   ]
  }
 ],
 "metadata": {
  "kernelspec": {
   "display_name": "Python 3",
   "language": "python",
   "name": "python3"
  },
  "language_info": {
   "codemirror_mode": {
    "name": "ipython",
    "version": 3
   },
   "file_extension": ".py",
   "mimetype": "text/x-python",
   "name": "python",
   "nbconvert_exporter": "python",
   "pygments_lexer": "ipython3",
   "version": "3.7.9"
  }
 },
 "nbformat": 4,
 "nbformat_minor": 4
}
